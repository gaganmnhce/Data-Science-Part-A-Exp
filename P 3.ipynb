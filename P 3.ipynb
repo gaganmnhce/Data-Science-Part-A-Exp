{
 "cells": [
  {
   "cell_type": "code",
   "execution_count": 1,
   "id": "a2c90941",
   "metadata": {},
   "outputs": [
    {
     "data": {
      "text/html": [
       "<div>\n",
       "<style scoped>\n",
       "    .dataframe tbody tr th:only-of-type {\n",
       "        vertical-align: middle;\n",
       "    }\n",
       "\n",
       "    .dataframe tbody tr th {\n",
       "        vertical-align: top;\n",
       "    }\n",
       "\n",
       "    .dataframe thead th {\n",
       "        text-align: right;\n",
       "    }\n",
       "</style>\n",
       "<table border=\"1\" class=\"dataframe\">\n",
       "  <thead>\n",
       "    <tr style=\"text-align: right;\">\n",
       "      <th></th>\n",
       "      <th>Name</th>\n",
       "      <th>Age</th>\n",
       "      <th>City</th>\n",
       "      <th>Salary</th>\n",
       "    </tr>\n",
       "  </thead>\n",
       "  <tbody>\n",
       "    <tr>\n",
       "      <th>0</th>\n",
       "      <td>Alice</td>\n",
       "      <td>25</td>\n",
       "      <td>Blg</td>\n",
       "      <td>60000</td>\n",
       "    </tr>\n",
       "    <tr>\n",
       "      <th>1</th>\n",
       "      <td>Bob</td>\n",
       "      <td>30</td>\n",
       "      <td>Mum</td>\n",
       "      <td>75000</td>\n",
       "    </tr>\n",
       "    <tr>\n",
       "      <th>2</th>\n",
       "      <td>Charlie</td>\n",
       "      <td>22</td>\n",
       "      <td>Delhi</td>\n",
       "      <td>50000</td>\n",
       "    </tr>\n",
       "    <tr>\n",
       "      <th>3</th>\n",
       "      <td>David</td>\n",
       "      <td>35</td>\n",
       "      <td>Goa</td>\n",
       "      <td>90000</td>\n",
       "    </tr>\n",
       "    <tr>\n",
       "      <th>4</th>\n",
       "      <td>Jack</td>\n",
       "      <td>28</td>\n",
       "      <td>Jk</td>\n",
       "      <td>65000</td>\n",
       "    </tr>\n",
       "  </tbody>\n",
       "</table>\n",
       "</div>"
      ],
      "text/plain": [
       "      Name  Age   City  Salary\n",
       "0    Alice   25    Blg   60000\n",
       "1      Bob   30    Mum   75000\n",
       "2  Charlie   22  Delhi   50000\n",
       "3    David   35    Goa   90000\n",
       "4     Jack   28     Jk   65000"
      ]
     },
     "execution_count": 1,
     "metadata": {},
     "output_type": "execute_result"
    }
   ],
   "source": [
    "import numpy as np\n",
    "import pandas as pd\n",
    "import matplotlib.pyplot as plt\n",
    "from scipy.stats import f_oneway\n",
    "\n",
    "data = {'Name': ['Alice', 'Bob', 'Charlie', 'David', 'Jack'],\n",
    "        'Age': [25, 30, 22, 35, 28],\n",
    "        'City': ['Blg', 'Mum', 'Delhi', 'Goa', 'Jk'],\n",
    "        'Salary': [60000, 75000, 50000, 90000, 65000]}\n",
    "\n",
    "df = pd.DataFrame(data)\n",
    "df"
   ]
  },
  {
   "cell_type": "code",
   "execution_count": 2,
   "id": "e82a23bb",
   "metadata": {},
   "outputs": [
    {
     "name": "stdout",
     "output_type": "stream",
     "text": [
      "Central Tendency for Salary:\n",
      "\n",
      "mean  68000.0\n",
      "median 65000.0\n",
      "mode 50000\n"
     ]
    }
   ],
   "source": [
    "x = np.mean(df['Salary'])\n",
    "y = np.median(df['Salary'])\n",
    "z = df['Salary'].mode()[0]\n",
    "print(\"Central Tendency for Salary:\\n\")\n",
    "print(\"mean \",x)\n",
    "print(\"median\" ,y)\n",
    "print(\"mode\" ,z)\n",
    "\n"
   ]
  },
  {
   "cell_type": "code",
   "execution_count": 3,
   "id": "faeee13a",
   "metadata": {},
   "outputs": [
    {
     "name": "stdout",
     "output_type": "stream",
     "text": [
      "\n",
      "Dispersion for Age:\n",
      "Standard Deviation:  {4.427188724235731}\n",
      "Variance:  {19.6}\n"
     ]
    }
   ],
   "source": [
    "sd = np.std(df['Age'])\n",
    "v = np.var(df['Age'])\n",
    "\n",
    "print(\"\\nDispersion for Age:\")\n",
    "print(\"Standard Deviation: \",{sd})\n",
    "print(\"Variance: \",{v})"
   ]
  },
  {
   "cell_type": "code",
   "execution_count": 5,
   "id": "96b71703",
   "metadata": {},
   "outputs": [
    {
     "data": {
      "image/png": "[encoded data removed]",
      "text/plain": [
       "<Figure size 640x480 with 1 Axes>"
      ]
     },
     "metadata": {},
     "output_type": "display_data"
    }
   ],
   "source": [
    "\n",
    "plt.hist(df['Salary'], bins=4, color='orange', edgecolor='black')\n",
    "plt.title('Salary Distribution Histogram')\n",
    "plt.xlabel('Salary')\n",
    "plt.ylabel('Frequency')\n",
    "plt.show()"
   ]
  },
  {
   "cell_type": "code",
   "execution_count": 6,
   "id": "4e453806",
   "metadata": {},
   "outputs": [
    {
     "name": "stdout",
     "output_type": "stream",
     "text": [
      "\n",
      "ANOVA Results:\n",
      "F-Statistic: 5.866666666666666\n",
      "P-Value: 0.29255820735401994\n"
     ]
    }
   ],
   "source": [
    "df['Education'] = ['High School', 'College', 'High School', 'Masters', 'Bachelors']\n",
    "\n",
    "# Performing ANOVA to test if there is a significant difference in Salary based on Education\n",
    "f, p = f_oneway(df['Salary'][df['Education'] == 'High School'],\n",
    "                                 df['Salary'][df['Education'] == 'College'],\n",
    "                                 df['Salary'][df['Education'] == 'Masters'],\n",
    "                                 df['Salary'][df['Education'] == 'Bachelors'])\n",
    "\n",
    "print(\"\\nANOVA Results:\")\n",
    "print(f\"F-Statistic: {f}\")\n",
    "print(f\"P-Value: {p}\")"
   ]
  },
  {
   "cell_type": "code",
   "execution_count": 7,
   "id": "0c94afbb",
   "metadata": {},
   "outputs": [
    {
     "data": {
      "text/html": [
       "<div>\n",
       "<style scoped>\n",
       "    .dataframe tbody tr th:only-of-type {\n",
       "        vertical-align: middle;\n",
       "    }\n",
       "\n",
       "    .dataframe tbody tr th {\n",
       "        vertical-align: top;\n",
       "    }\n",
       "\n",
       "    .dataframe thead th {\n",
       "        text-align: right;\n",
       "    }\n",
       "</style>\n",
       "<table border=\"1\" class=\"dataframe\">\n",
       "  <thead>\n",
       "    <tr style=\"text-align: right;\">\n",
       "      <th></th>\n",
       "      <th>pateint</th>\n",
       "      <th>sex</th>\n",
       "      <th>age</th>\n",
       "      <th>bp_before</th>\n",
       "      <th>bp_after</th>\n",
       "    </tr>\n",
       "  </thead>\n",
       "  <tbody>\n",
       "    <tr>\n",
       "      <th>0</th>\n",
       "      <td>1</td>\n",
       "      <td>M</td>\n",
       "      <td>30</td>\n",
       "      <td>143</td>\n",
       "      <td>156</td>\n",
       "    </tr>\n",
       "    <tr>\n",
       "      <th>1</th>\n",
       "      <td>2</td>\n",
       "      <td>F</td>\n",
       "      <td>45</td>\n",
       "      <td>163</td>\n",
       "      <td>170</td>\n",
       "    </tr>\n",
       "    <tr>\n",
       "      <th>2</th>\n",
       "      <td>3</td>\n",
       "      <td>M</td>\n",
       "      <td>25</td>\n",
       "      <td>153</td>\n",
       "      <td>168</td>\n",
       "    </tr>\n",
       "    <tr>\n",
       "      <th>3</th>\n",
       "      <td>4</td>\n",
       "      <td>F</td>\n",
       "      <td>65</td>\n",
       "      <td>120</td>\n",
       "      <td>205</td>\n",
       "    </tr>\n",
       "    <tr>\n",
       "      <th>4</th>\n",
       "      <td>5</td>\n",
       "      <td>F</td>\n",
       "      <td>59</td>\n",
       "      <td>195</td>\n",
       "      <td>141</td>\n",
       "    </tr>\n",
       "  </tbody>\n",
       "</table>\n",
       "</div>"
      ],
      "text/plain": [
       "   pateint sex  age  bp_before  bp_after\n",
       "0        1   M   30        143       156\n",
       "1        2   F   45        163       170\n",
       "2        3   M   25        153       168\n",
       "3        4   F   65        120       205\n",
       "4        5   F   59        195       141"
      ]
     },
     "execution_count": 7,
     "metadata": {},
     "output_type": "execute_result"
    }
   ],
   "source": [
    "from scipy.stats import stats\n",
    "data1={'pateint':[1,2,3,4,5],\n",
    "      'sex':['M','F','M','F','F'],\n",
    "       'age': [30,45,25,65,59],\n",
    "       'bp_before':[143,163,153,120,195],\n",
    "       'bp_after':[156,170,168,205,141]\n",
    "      }\n",
    "df1=pd.DataFrame(data1)\n",
    "df1\n"
   ]
  },
  {
   "cell_type": "code",
   "execution_count": 8,
   "id": "77c9e188",
   "metadata": {},
   "outputs": [
    {
     "data": {
      "text/html": [
       "<div>\n",
       "<style scoped>\n",
       "    .dataframe tbody tr th:only-of-type {\n",
       "        vertical-align: middle;\n",
       "    }\n",
       "\n",
       "    .dataframe tbody tr th {\n",
       "        vertical-align: top;\n",
       "    }\n",
       "\n",
       "    .dataframe thead th {\n",
       "        text-align: right;\n",
       "    }\n",
       "</style>\n",
       "<table border=\"1\" class=\"dataframe\">\n",
       "  <thead>\n",
       "    <tr style=\"text-align: right;\">\n",
       "      <th></th>\n",
       "      <th>bp_before</th>\n",
       "      <th>bp_after</th>\n",
       "    </tr>\n",
       "  </thead>\n",
       "  <tbody>\n",
       "    <tr>\n",
       "      <th>0</th>\n",
       "      <td>143</td>\n",
       "      <td>156</td>\n",
       "    </tr>\n",
       "    <tr>\n",
       "      <th>1</th>\n",
       "      <td>163</td>\n",
       "      <td>170</td>\n",
       "    </tr>\n",
       "    <tr>\n",
       "      <th>2</th>\n",
       "      <td>153</td>\n",
       "      <td>168</td>\n",
       "    </tr>\n",
       "    <tr>\n",
       "      <th>3</th>\n",
       "      <td>120</td>\n",
       "      <td>205</td>\n",
       "    </tr>\n",
       "    <tr>\n",
       "      <th>4</th>\n",
       "      <td>195</td>\n",
       "      <td>141</td>\n",
       "    </tr>\n",
       "  </tbody>\n",
       "</table>\n",
       "</div>"
      ],
      "text/plain": [
       "   bp_before  bp_after\n",
       "0        143       156\n",
       "1        163       170\n",
       "2        153       168\n",
       "3        120       205\n",
       "4        195       141"
      ]
     },
     "execution_count": 8,
     "metadata": {},
     "output_type": "execute_result"
    }
   ],
   "source": [
    "df1[['bp_before','bp_after']]"
   ]
  },
  {
   "cell_type": "code",
   "execution_count": 9,
   "id": "ac449b98",
   "metadata": {},
   "outputs": [
    {
     "name": "stdout",
     "output_type": "stream",
     "text": [
      "Hypothesis Testing (T-Test) Results:\n",
      "0.5814544454075765\n",
      "accept hypothesis\n"
     ]
    },
    {
     "name": "stderr",
     "output_type": "stream",
     "text": [
      "C:\\Users\\91701\\AppData\\Local\\Temp\\ipykernel_19616\\960320960.py:2: DeprecationWarning: Please use `ttest_rel` from the `scipy.stats` namespace, the `scipy.stats.stats` namespace is deprecated.\n",
      "  t,p=stats.ttest_rel(df1['bp_before'],df1['bp_after'])\n"
     ]
    }
   ],
   "source": [
    "print(\"Hypothesis Testing (T-Test) Results:\")\n",
    "t,p=stats.ttest_rel(df1['bp_before'],df1['bp_after'])\n",
    "print(p)\n",
    "\n",
    "if p<0.05:\n",
    "    print(\"rejectd hypothesis\")\n",
    "else:\n",
    "    print(\"accept hypothesis\")"
   ]
  },
  {
   "cell_type": "code",
   "execution_count": null,
   "id": "113a1d5b",
   "metadata": {},
   "outputs": [],
   "source": []
  }
 ],
 "metadata": {
  "kernelspec": {
   "display_name": "Python 3 (ipykernel)",
   "language": "python",
   "name": "python3"
  },
  "language_info": {
   "codemirror_mode": {
    "name": "ipython",
    "version": 3
   },
   "file_extension": ".py",
   "mimetype": "text/x-python",
   "name": "python",
   "nbconvert_exporter": "python",
   "pygments_lexer": "ipython3",
   "version": "3.11.5"
  }
 },
 "nbformat": 4,
 "nbformat_minor": 5
}
